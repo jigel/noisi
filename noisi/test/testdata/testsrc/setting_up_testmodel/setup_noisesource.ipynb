{
 "cells": [
  {
   "cell_type": "code",
   "execution_count": 1,
   "metadata": {
    "collapsed": true
   },
   "outputs": [],
   "source": [
    "import numpy as np\n",
    "from obspy.geodetics import gps2dist_azimuth\n",
    "from obspy.signal.invsim import cosine_taper\n",
    "import matplotlib.pyplot as plt\n",
    "import h5py\n",
    "from noisi import WaveField\n",
    "import json\n",
    "from glob import glob\n",
    "import os\n",
    "from scipy.signal.signaltools import _next_regular\n",
    "%matplotlib inline"
   ]
  },
  {
   "cell_type": "code",
   "execution_count": 2,
   "metadata": {
    "collapsed": true
   },
   "outputs": [],
   "source": [
    "######################\n",
    "# Define the bases!\n",
    "######################\n",
    "# geography - Add anything else than a homogeneous distribution by setting to \"True\" the following:\n",
    "only_ocean = False\n",
    "gaussian_blobs = False\n",
    "params_gaussian_blobs = [{'center':(0.,0.),'sigma_radius_m':500000.,'rel_weight':2.}]\n",
    "\n",
    "#spectra\n",
    "params_gaussian_spectra = [{'central_freq':0.005,'sigma_freq':0.01,'weight':0.01}]\n",
    "                          #{'central_freq':0.075,'sigma_freq':0.1,'weight':10.}]"
   ]
  },
  {
   "cell_type": "code",
   "execution_count": 14,
   "metadata": {
    "collapsed": false
   },
   "outputs": [
    {
     "name": "stdout",
     "output_type": "stream",
     "text": [
      "565797\n"
     ]
    }
   ],
   "source": [
    "grd  = np.load('test_1/sourcegrid.npy')\n",
    "ntraces = np.shape(grd)[-1]\n",
    "print ntraces"
   ]
  },
  {
   "cell_type": "code",
   "execution_count": 4,
   "metadata": {
    "collapsed": false
   },
   "outputs": [
    {
     "name": "stdout",
     "output_type": "stream",
     "text": [
      "*.h5_proc\n",
      "<HDF5 file \"testEQ.004.h5_proc\" (mode r)>\n",
      "0.4 7243 14580\n",
      "0.0 0.2\n",
      "7291\n"
     ]
    }
   ],
   "source": [
    "config = json.load(open('test_1/config.json'))\n",
    "source_config = json.load(open('test_1/newsource/source_config.json'))\n",
    "# Find the sampling rate and the nr. of points in synthetic seismograms\n",
    "synthetics_path = config['wavefield_path']\n",
    "\n",
    "if source_config['preprocess_do']:\n",
    "    ext = '*.h5_proc'\n",
    "else:\n",
    "    ext = '*.h5'\n",
    "print ext\n",
    "wfs = glob(os.path.join(synthetics_path,ext))\n",
    "with WaveField(wfs[0]) as wf:\n",
    "    df = wf.stats['Fs']\n",
    "    nt = wf.stats['nt']\n",
    "    # The number of points for the fft is larger due to zeropadding --> apparent higher frequency sampling\\n\",\n",
    "    n = _next_regular(2*nt-1)\n",
    "    print df,nt,n\n",
    "    freq = np.fft.rfftfreq(n,d=1./df)\n",
    "    print np.min(freq),np.max(freq)\n",
    "    taper = cosine_taper(len(freq),0.05)\n",
    "    print len(freq)"
   ]
  },
  {
   "cell_type": "code",
   "execution_count": 5,
   "metadata": {
    "collapsed": true
   },
   "outputs": [],
   "source": [
    "def get_distance(grid,location):\n",
    "    def f(lat,lon,location):\n",
    "        return abs(gps2dist_azimuth(lat,lon,location[0],location[1])[0])\n",
    "    dist = np.array([f(lat,lon,location) for lat,lon in zip(grid[1],grid[0])])\n",
    "    return dist\n",
    "    # Use Basemap to figure out where ocean is\n",
    "def get_ocean_mask():\n",
    "    from mpl_toolkits.basemap import Basemap\n",
    "    m = Basemap(rsphere=6378137,resolution='c',projection='cea',lat_0=0.,\n",
    "                lon_0=0.,llcrnrlat=-90.,urcrnrlat=90.,llcrnrlon=-180.,urcrnrlon=180.)\n",
    "    (x,y) = m(grd[0],grd[1])\n",
    "    ocean_mask = map(lambda (x,y): not m.is_land(x,y),zip(x,y))\n",
    "    return ocean_mask"
   ]
  },
  {
   "cell_type": "code",
   "execution_count": 19,
   "metadata": {
    "collapsed": false
   },
   "outputs": [
    {
     "name": "stdout",
     "output_type": "stream",
     "text": [
      "(1, 565797)\n",
      "(1, 565797)\n"
     ]
    }
   ],
   "source": [
    "#########################\n",
    "# Create the source distr\n",
    "#########################\n",
    "\n",
    "# geography\n",
    "num_bases = 1\n",
    "if gaussian_blobs:\n",
    "    num_bases += len(params_gaussian_blobs)\n",
    "\n",
    "basis1 = np.zeros((num_bases,ntraces))\n",
    "print np.shape(basis1)\n",
    "# homogeneous layer\n",
    "basis1[0,:] = np.ones(ntraces) \n",
    "if only_ocean:\n",
    "    basis1[0,:] *= np.array(get_ocean_mask()).astype(int)\n",
    "    # superimposed Gaussian blob(s)\n",
    "if gaussian_blobs:\n",
    "    i = 1\n",
    "    for blob in params_gaussian_blobs:\n",
    "        dist = get_distance(grd,blob['center'])\n",
    "        basis1[i,:] = np.exp(-(dist)**2/(2*blob['sigma_radius_m']**2))\n",
    "        i+=1\n",
    "\n",
    "        \n",
    "# spectra\n",
    "basis2 = np.zeros((len(params_gaussian_spectra),len(freq)))\n",
    "# 'sort of hum gaussian'\n",
    "i = 0\n",
    "for spec in params_gaussian_spectra:\n",
    "    basis2[i,:] = taper*np.exp(-(freq-spec['central_freq'])**2/(2*spec['sigma_freq']**2))\n",
    "# This normalization means different integrals...\n",
    "    basis2[i,:] /= np.max(np.abs(basis2[0,:]))\n",
    "    i+=1\n",
    "\n",
    "print np.shape(basis1)"
   ]
  },
  {
   "cell_type": "code",
   "execution_count": 28,
   "metadata": {
    "collapsed": false
   },
   "outputs": [
    {
     "name": "stdout",
     "output_type": "stream",
     "text": [
      "(1,)\n"
     ]
    }
   ],
   "source": [
    "######################\n",
    "# set the weights\n",
    "#####################\n",
    "# geography\n",
    "weights1 = np.ones(np.shape(basis1)[0])\n",
    "print np.shape(weights1)\n",
    "if gaussian_blobs:\n",
    "    i = 1\n",
    "    for blob in params_gaussian_blobs:\n",
    "        weights1[i] = blob['rel_weight']\n",
    "        i+=1\n",
    "#print weights1\n",
    "# spectra --- much harder to assign manually, since we need weights for every location. just assigning ones.\\n\",\n",
    "weights2 = np.ones((np.shape(grd)[-1],np.shape(basis2)[0]))\n",
    "i=0\n",
    "for spec in params_gaussian_spectra:\n",
    "    weights2[:,i] *= spec['weight']\n",
    "#print weights2"
   ]
  },
  {
   "cell_type": "code",
   "execution_count": 29,
   "metadata": {
    "collapsed": true
   },
   "outputs": [],
   "source": [
    "from noisi.util import plot"
   ]
  },
  {
   "cell_type": "code",
   "execution_count": 30,
   "metadata": {
    "collapsed": false
   },
   "outputs": [
    {
     "data": {
      "image/png": "[encoded data removed]",
      "text/plain": [
       "<matplotlib.figure.Figure at 0x7f22b2939e50>"
      ]
     },
     "metadata": {},
     "output_type": "display_data"
    },
    {
     "data": {
      "image/png": "[encoded data removed]",
      "text/plain": [
       "<matplotlib.figure.Figure at 0x7f22b2939f90>"
      ]
     },
     "metadata": {},
     "output_type": "display_data"
    }
   ],
   "source": [
    "distr = np.dot(weights1,basis1)\n",
    "plot.plot_grid(grd[0],grd[1],distr)\n",
    "\n",
    "plt.semilogx(freq,np.dot(weights2[0,:],basis2))\n",
    "plt.show()"
   ]
  },
  {
   "cell_type": "code",
   "execution_count": 31,
   "metadata": {
    "collapsed": false
   },
   "outputs": [
    {
     "name": "stdout",
     "output_type": "stream",
     "text": [
      "7291\n"
     ]
    }
   ],
   "source": [
    "# Save to an hdf5 file\n",
    "print len(basis2[0,:])\n",
    "\n",
    "with h5py.File('sourcemodel.h5','w') as fh:\n",
    "    fh.create_dataset('coordinates',data=grd.astype(np.float32))\n",
    "    fh.create_dataset('frequencies',data=freq.astype(np.float32))\n",
    "    fh.create_dataset('distr_basis',data=basis1.astype(np.float32))\n",
    "    fh.create_dataset('distr_weights',data=weights1.astype(np.float32))\n",
    "    fh.create_dataset('spect_basis',data=basis2.astype(np.float32))\n",
    "    fh.create_dataset('spect_weights',data=weights2.astype(np.float32))\n"
   ]
  },
  {
   "cell_type": "code",
   "execution_count": 32,
   "metadata": {
    "collapsed": false
   },
   "outputs": [
    {
     "name": "stdout",
     "output_type": "stream",
     "text": [
      "before_holidays.txt  \u001b[0m\u001b[01;34mPütheAbschied\u001b[0m/               sourcemodel.h5\r\n",
      "howto.docx           repaired_source_setup.ipynb  \u001b[01;34mtest_1\u001b[0m/\r\n",
      "\u001b[01;34mMukke\u001b[0m/               \u001b[01;34msandbox_malwine\u001b[0m/\r\n"
     ]
    }
   ],
   "source": [
    "ls"
   ]
  },
  {
   "cell_type": "code",
   "execution_count": null,
   "metadata": {
    "collapsed": true
   },
   "outputs": [],
   "source": []
  }
 ],
 "metadata": {
  "anaconda-cloud": {},
  "kernelspec": {
   "display_name": "Python [default]",
   "language": "python",
   "name": "python2"
  },
  "language_info": {
   "codemirror_mode": {
    "name": "ipython",
    "version": 2
   },
   "file_extension": ".py",
   "mimetype": "text/x-python",
   "name": "python",
   "nbconvert_exporter": "python",
   "pygments_lexer": "ipython2",
   "version": "2.7.12"
  }
 },
 "nbformat": 4,
 "nbformat_minor": 0
}
